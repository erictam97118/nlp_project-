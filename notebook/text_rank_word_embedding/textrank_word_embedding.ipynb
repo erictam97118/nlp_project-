{
 "cells": [
  {
   "cell_type": "code",
   "execution_count": 21,
   "metadata": {},
   "outputs": [],
   "source": [
    "import pandas as pd\n",
    "import numpy as np\n",
    "import sys\n",
    "import string"
   ]
  },
  {
   "cell_type": "code",
   "execution_count": 5,
   "metadata": {},
   "outputs": [],
   "source": [
    "import gensim\n",
    "import re \n",
    "import networkx as nx\n",
    "\n",
    "import nltk\n",
    "from nltk.corpus import stopwords\n",
    "stop_words = stopwords.words('english')"
   ]
  },
  {
   "cell_type": "code",
   "execution_count": 165,
   "metadata": {},
   "outputs": [],
   "source": [
    "def read_txt_file(filepath):\n",
    "    f = open(filepath, 'r', encoding='utf8')\n",
    "    txt = f.read()\n",
    "    f.close()\n",
    "    return txt\n",
    "\n",
    "def txt_to_sentence(txt):\n",
    "    sent_list = gensim.summarization.textcleaner.split_sentences(txt)\n",
    "    new_sent_list = []\n",
    "    for sentence in sent_list:\n",
    "        sentence_temp = sentence.lower()\n",
    "        new_sent_list.append(sentence_temp)\n",
    "        \n",
    "    return new_sent_list \n",
    "\n",
    "def remove_stopwords(sen):\n",
    "    \n",
    "    sentence_list = []\n",
    "    for sentence in sen:\n",
    "        sentence_new = ' '.join([re.sub('[^A-Za-z0-9]+', '', i) for i in sentence.split()])\n",
    "        sentence_new = \" \".join([i for i in sentence_new.split() if i not in stop_words])\n",
    "        sentence_list.append(sentence_new)\n",
    "\n",
    "    return sentence_list\n",
    "    \n",
    "def cosine_similarity(sent_1, sent_2):\n",
    "    dot_product = np.dot(sent_1, sent_2)\n",
    "    norm_sent_1 = np.linalg.norm(sent_1)\n",
    "    norm_sent_2 = np.linalg.norm(sent_2)\n",
    "    \n",
    "    return dot_product / (norm_sent_1 * norm_sent_2)\n",
    "\n",
    "def convert_to_sentence_vector(sentences_list): \n",
    "    sentence_matrix = np.array([])\n",
    "    for sentence in sentences_list: \n",
    "        if len(sentence) != 0:\n",
    "            sentence_vector = sum([word_embedding.get(word, np.zeros(300,)) for word in sentence.split()]) / len(sentence.split())\n",
    "        else:\n",
    "            sentence_vector = np.zeros(300,)\n",
    "        sentence_matrix = np.append(sentence_matrix, sentence_vector)\n",
    "    sentence_matrix = sentence_matrix.reshape(-1, 300)\n",
    "    return sentence_matrix\n",
    "\n",
    "def create_weigh_graph(sentence_matrix): \n",
    "    \n",
    "    dim = sentence_matrix.shape[0]\n",
    "    graph = np.zeros([dim, dim])\n",
    "    \n",
    "    for i in range(dim):\n",
    "        for j in range(dim):\n",
    "            if i != j: \n",
    "                graph[i][j] = cosine_similarity(sentence_matrix[i], sentence_matrix[j])\n",
    "                \n",
    "    return np.round(graph, 3)"
   ]
  },
  {
   "cell_type": "code",
   "execution_count": null,
   "metadata": {},
   "outputs": [],
   "source": [
    "word_embedding = {}\n",
    "\n",
    "f = open('C:/Users/erict/OneDrive/桌面/project/glove.6B/glove.6B.300d.txt', encoding='utf-8')\n",
    "for line in f:\n",
    "    values = line.split()\n",
    "    word = values[0]\n",
    "    coefs = np.asarray(values[1:], dtype='float32')\n",
    "    word_embedding[word] = coefs\n",
    "f.close()"
   ]
  },
  {
   "cell_type": "code",
   "execution_count": 206,
   "metadata": {},
   "outputs": [
    {
     "data": {
      "text/plain": [
       "400001"
      ]
     },
     "execution_count": 206,
     "metadata": {},
     "output_type": "execute_result"
    }
   ],
   "source": [
    "len(word_embedding)"
   ]
  },
  {
   "cell_type": "code",
   "execution_count": 212,
   "metadata": {},
   "outputs": [],
   "source": [
    "raw_txt = read_txt_file('reuters_news_2.txt')\n",
    "raw_sentences_list = txt_to_sentence(raw_txt)\n",
    "sentences_list = remove_stopwords(raw_sentences_list)"
   ]
  },
  {
   "cell_type": "code",
   "execution_count": 213,
   "metadata": {},
   "outputs": [],
   "source": [
    "sentence_matrix = convert_to_sentence_vector(sentences_list)"
   ]
  },
  {
   "cell_type": "code",
   "execution_count": 214,
   "metadata": {},
   "outputs": [
    {
     "data": {
      "text/plain": [
       "array([[-0.05583567,  0.16225817, -0.06844132, ..., -0.2921087 ,\n",
       "         0.039524  ,  0.0015288 ],\n",
       "       [ 0.04907333,  0.186096  ,  0.06339499, ..., -0.03764349,\n",
       "         0.14238466, -0.26509133],\n",
       "       [-0.00231583,  0.15954583, -0.00567017, ...,  0.05344542,\n",
       "        -0.12651099,  0.03477116],\n",
       "       ...,\n",
       "       [ 0.01159267,  0.02682467, -0.07696433, ..., -0.21714467,\n",
       "        -0.04227406,  0.09052   ],\n",
       "       [-0.12405426,  0.219503  ,  0.04452418, ..., -0.17727154,\n",
       "        -0.105226  , -0.14149964],\n",
       "       [-0.023623  ,  0.18105051,  0.10365775, ..., -0.23106501,\n",
       "        -0.13980675, -0.2692875 ]])"
      ]
     },
     "execution_count": 214,
     "metadata": {},
     "output_type": "execute_result"
    }
   ],
   "source": [
    "sentence_matrix"
   ]
  },
  {
   "cell_type": "code",
   "execution_count": 215,
   "metadata": {},
   "outputs": [
    {
     "data": {
      "text/plain": [
       "array([[0.   , 0.616, 0.748, 0.853, 0.824, 0.726, 0.698, 0.78 , 0.826,\n",
       "        0.637, 0.624, 0.579],\n",
       "       [0.616, 0.   , 0.553, 0.626, 0.714, 0.492, 0.481, 0.599, 0.603,\n",
       "        0.543, 0.486, 0.568],\n",
       "       [0.748, 0.553, 0.   , 0.696, 0.7  , 0.546, 0.559, 0.638, 0.807,\n",
       "        0.499, 0.513, 0.537],\n",
       "       [0.853, 0.626, 0.696, 0.   , 0.834, 0.744, 0.761, 0.818, 0.848,\n",
       "        0.589, 0.72 , 0.66 ],\n",
       "       [0.824, 0.714, 0.7  , 0.834, 0.   , 0.783, 0.762, 0.819, 0.815,\n",
       "        0.694, 0.66 , 0.69 ],\n",
       "       [0.726, 0.492, 0.546, 0.744, 0.783, 0.   , 0.763, 0.748, 0.662,\n",
       "        0.572, 0.61 , 0.593],\n",
       "       [0.698, 0.481, 0.559, 0.761, 0.762, 0.763, 0.   , 0.798, 0.703,\n",
       "        0.607, 0.708, 0.652],\n",
       "       [0.78 , 0.599, 0.638, 0.818, 0.819, 0.748, 0.798, 0.   , 0.786,\n",
       "        0.665, 0.707, 0.758],\n",
       "       [0.826, 0.603, 0.807, 0.848, 0.815, 0.662, 0.703, 0.786, 0.   ,\n",
       "        0.621, 0.656, 0.665],\n",
       "       [0.637, 0.543, 0.499, 0.589, 0.694, 0.572, 0.607, 0.665, 0.621,\n",
       "        0.   , 0.564, 0.622],\n",
       "       [0.624, 0.486, 0.513, 0.72 , 0.66 , 0.61 , 0.708, 0.707, 0.656,\n",
       "        0.564, 0.   , 0.628],\n",
       "       [0.579, 0.568, 0.537, 0.66 , 0.69 , 0.593, 0.652, 0.758, 0.665,\n",
       "        0.622, 0.628, 0.   ]])"
      ]
     },
     "execution_count": 215,
     "metadata": {},
     "output_type": "execute_result"
    }
   ],
   "source": [
    "weight_matrix = create_weigh_graph(sentence_matrix=sentence_matrix)\n",
    "weight_matrix"
   ]
  },
  {
   "cell_type": "code",
   "execution_count": 216,
   "metadata": {},
   "outputs": [],
   "source": [
    "nx_graph = nx.from_numpy_array(weight_matrix)\n",
    "scores = nx.pagerank(nx_graph)"
   ]
  },
  {
   "cell_type": "code",
   "execution_count": 219,
   "metadata": {
    "scrolled": false
   },
   "outputs": [
    {
     "name": "stdout",
     "output_type": "stream",
     "text": [
      "A major goal of President Donald Trump has been to drive manufacturers to bring work back to the United States, presumably aided by new automation and robotics that would allow domestic plants to compete with cheaper labor in China and other lower-cost countries. But that trend appears to have been overwhelmed by a larger slowdown in manufacturing.\n",
      "\n",
      "Alexander Shikany, vice president of the Association for Advancing Automation, said the slowdown is likely to be short lived. Orders for new robots in North America, a separate measure that gives a sense of how many machines will be installed in future months, increased last year by 1.6% to 29,988 units, Shikany noted.\n",
      "\n",
      "The largest driver of that growth was a more than 50% jump in orders from automakers, which Shikany said were making robots part of their investment in the next wave of automotive technology.\n",
      "\n",
      "No. 1 U.S. automaker General Motors Co (GM.N), for example, recently announced it was investing $2.2 billion to build electric trucks and autonomous electric vehicles at its Detroit-area plant in Hamtramck, Michigan.\n",
      "\n",
      "Hytrol Conveyor Co Inc, a privately held company in Jonesboro, Arkansas, that produces conveyor belts and had sales last year of over $200 million, did not cut back on robot installations in 2019. With demand from e-commerce businesses and other warehouse operations booming, the company spent $1.9 million last year to help automate its assembly line.\n",
      "\n",
      "David Peacock, the company’s president, said the company realized three years ago it would have trouble keeping up with demand growth without more robots.\n",
      "\n",
      "The investments have not cut jobs. Headcount at Hytrol Conveyor’s factory has increased 18% over the past three years to 1,300 workers. Revenues, meanwhile, are up nearly a quarter.\n"
     ]
    }
   ],
   "source": [
    "print(raw_txt)"
   ]
  },
  {
   "cell_type": "code",
   "execution_count": 217,
   "metadata": {},
   "outputs": [
    {
     "name": "stdout",
     "output_type": "stream",
     "text": [
      "the largest driver of that growth was a more than 50% jump in orders from automakers, which shikany said were making robots part of their investment in the next wave of automotive technology. \n",
      "\n",
      "orders for new robots in north america, a separate measure that gives a sense of how many machines will be installed in future months, increased last year by 1.6% to 29,988 units, shikany noted. \n",
      "\n",
      "with demand from e-commerce businesses and other warehouse operations booming, the company spent $1.9 million last year to help automate its assembly line. \n",
      "\n",
      "david peacock, the company’s president, said the company realized three years ago it would have trouble keeping up with demand growth without more robots. \n",
      "\n",
      "a major goal of president donald trump has been to drive manufacturers to bring work back to the united states, presumably aided by new automation and robotics that would allow domestic plants to compete with cheaper labor in china and other lower-cost countries. \n",
      "\n"
     ]
    }
   ],
   "source": [
    "top_idx = [k for k, v in sorted(scores.items(), key=lambda item: item[1], reverse=True)][:5]\n",
    "for idx in top_idx:\n",
    "    print(raw_sentences_list[idx], '\\n')"
   ]
  },
  {
   "cell_type": "code",
   "execution_count": 218,
   "metadata": {},
   "outputs": [
    {
     "name": "stdout",
     "output_type": "stream",
     "text": [
      "orders for new robots in north america, a separate measure that gives a sense of how many machines will be installed in future months, increased last year by 1.6% to 29,988 units, shikany noted.\n",
      "the largest driver of that growth was a more than 50% jump in orders from automakers, which shikany said were making robots part of their investment in the next wave of automotive technology.\n",
      "hytrol conveyor co inc, a privately held company in jonesboro, arkansas, that produces conveyor belts and had sales last year of over $200 million, did not cut back on robot installations in 2019.\n"
     ]
    }
   ],
   "source": [
    "summarized_content = gensim.summarization.summarize(' '.join(raw_sentences_list), ratio=0.3)\n",
    "print(summarized_content)"
   ]
  },
  {
   "cell_type": "code",
   "execution_count": null,
   "metadata": {},
   "outputs": [],
   "source": []
  }
 ],
 "metadata": {
  "kernelspec": {
   "display_name": "Python 3",
   "language": "python",
   "name": "python3"
  },
  "language_info": {
   "codemirror_mode": {
    "name": "ipython",
    "version": 3
   },
   "file_extension": ".py",
   "mimetype": "text/x-python",
   "name": "python",
   "nbconvert_exporter": "python",
   "pygments_lexer": "ipython3",
   "version": "3.7.4"
  }
 },
 "nbformat": 4,
 "nbformat_minor": 2
}
